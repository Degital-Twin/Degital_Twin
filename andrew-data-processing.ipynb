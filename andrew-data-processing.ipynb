{
 "cells": [
  {
   "cell_type": "code",
   "execution_count": 65,
   "metadata": {},
   "outputs": [],
   "source": [
    "import pandas as pd\n",
    "import pytz\n",
    "from datetime import datetime, timedelta\n",
    "from dateutil import tz"
   ]
  },
  {
   "cell_type": "code",
   "execution_count": null,
   "metadata": {},
   "outputs": [],
   "source": [
    "df = pd.read_csv(\"data/important/ammonium.csv\", parse_dates=['datumBeginMeting', 'datumEindeMeting'])\n",
    "\n",
    "df.drop(columns=['datumEindeMeting'], inplace=True)\n",
    "\n",
    "df.set_index('datumBeginMeting', inplace=True)\n",
    "df = df.rename_axis('DateTimeIndex')\n",
    "\n",
    "is_dst = pd.Series([False] * len(df.index), index=df.index)\n",
    "tz = pytz.timezone(\"UTC\")\n",
    "\n",
    "for date in df.index:\n",
    "    dst_shift = tz.localize(date, is_dst=True).dst()\n",
    "\n",
    "    is_dst[date] = dst_shift != timedelta(0)\n",
    "\n",
    "is_dst[df.index.duplicated(keep='first')] = False\n",
    "\n",
    "new_index = pd.to_datetime(df.index, format='%d/%m/%Y %H:%M').tz_localize(\n",
    "    pytz.timezone(\"UTC\"),\n",
    "    ambiguous=is_dst)\n",
    "\n",
    "if new_index.duplicated().any():\n",
    "    df.index = new_index\n",
    "    df = df[~df.index.duplicated()]\n",
    "else:\n",
    "    df.index = new_index\n",
    "\n",
    "df"
   ]
  },
  {
   "cell_type": "code",
   "execution_count": 68,
   "metadata": {},
   "outputs": [],
   "source": [
    "df.to_csv(\"ammonium_utc.csv\")"
   ]
  }
 ],
 "metadata": {
  "kernelspec": {
   "display_name": "venv",
   "language": "python",
   "name": "python3"
  },
  "language_info": {
   "codemirror_mode": {
    "name": "ipython",
    "version": 3
   },
   "file_extension": ".py",
   "mimetype": "text/x-python",
   "name": "python",
   "nbconvert_exporter": "python",
   "pygments_lexer": "ipython3",
   "version": "3.11.4"
  },
  "orig_nbformat": 4
 },
 "nbformat": 4,
 "nbformat_minor": 2
}
