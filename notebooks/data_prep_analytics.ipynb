{
 "cells": [
  {
   "cell_type": "code",
   "execution_count": null,
   "metadata": {},
   "outputs": [],
   "source": [
    "import pandas as pd\n",
    "import os\n",
    "import pytz\n",
    "import matplotlib.pyplot as plt\n",
    "import plotly.express as px\n",
    "import plotly.graph_objects as go\n",
    "import numpy as np\n",
    "\n",
    "from datetime import datetime, timedelta\n",
    "from dateutil import rrule"
   ]
  },
  {
   "cell_type": "code",
   "execution_count": null,
   "metadata": {},
   "outputs": [],
   "source": [
    "'''\n",
    "Function to cycle through the folder of Ammonium, Nitrate, Oxygen_A, Oxygen_B and Phosphate CSVs and convert them to Series.\n",
    "\n",
    "Return: Pandas Series for each above mentioned\n",
    "'''\n",
    "\n",
    "# change the relative path according\n",
    "folder_path = \"../data/important/\"\n",
    "files = os.listdir(folder_path)\n",
    "\n",
    "for file_name in files:\n",
    "    df = pd.read_csv(f\"../data/important/{file_name}\")\n",
    "\n",
    "    df.index = pd.to_datetime(df['datumBeginMeting'])\n",
    "    df.index.name = None\n",
    "    df.drop(columns=['datumEindeMeting', 'datumBeginMeting'], inplace=True)\n",
    "\n",
    "    df_to_series = df[\"hstWaarde\"]\n",
    "    filename = df['historianTagnummer'].iloc[0].split('.')[0] + f'_{file_name}'\n",
    "\n",
    "    df_to_series.to_csv(filename, header=True)\n",
    "    df_to_series"
   ]
  },
  {
   "cell_type": "code",
   "execution_count": null,
   "metadata": {},
   "outputs": [],
   "source": [
    "'''\n",
    "Return: Pandas Series for each above mentioned\n",
    "'''\n",
    "folder_path = \"../data/converted/\"\n",
    "files = os.listdir(folder_path)\n",
    "\n",
    "for file_name in files:\n",
    "    df = pd.read_csv(f\"../data/converted/{file_name}\", parse_dates=True, index_col=0)\n",
    "\n",
    "    df.index = pd.to_datetime(df.index)\n",
    "\n",
    "    minutely_index = pd.date_range(start=df.index.min(), end=df.index.max(), freq='T')\n",
    "    new_df = pd.DataFrame(index=minutely_index)\n",
    "\n",
    "    merged_df = new_df.join(df, how='left').interpolate(method='time')\n",
    "\n",
    "    merged_df = merged_df.groupby(merged_df.index).mean()\n",
    "\n",
    "    merged_df.to_csv(f\"../data/resampled/{file_name}\")"
   ]
  },
  {
   "cell_type": "code",
   "execution_count": null,
   "metadata": {},
   "outputs": [],
   "source": [
    "df = pd.read_csv(\"../data/converted/EDE_B121069913_K600_ammonium.csv\", index_col=0)\n",
    "\n",
    "df.index = [pytz.timezone('Europe/Amsterdam').localize(datetime.fromisoformat(t)) for t in df.index]\n",
    "df.set_index(df.index.tz_convert('UTC'), inplace=True)"
   ]
  },
  {
   "cell_type": "code",
   "execution_count": null,
   "metadata": {},
   "outputs": [],
   "source": [
    "folder_path = \"../data/resampled/\"\n",
    "files = os.listdir(folder_path)\n",
    "\n",
    "merged = pd.DataFrame()\n",
    "\n",
    "for file_name in files:\n",
    "    df = pd.read_csv(f\"../data/resampled/{file_name}\", index_col=0)\n",
    "    df.index = pd.to_datetime(df.index)\n",
    "    # df = df.resample('2min').mean()\n",
    "    df = df.rename(columns={\"hstWaarde\": file_name})\n",
    "    merged = pd.merge(df, merged, left_index=True, right_index=True, how='outer')\n",
    "\n",
    "merged.to_csv(\"../data/merged.csv\")"
   ]
  },
  {
   "cell_type": "code",
   "execution_count": null,
   "metadata": {},
   "outputs": [],
   "source": [
    "df = pd.read_csv(f\"../data/merged.csv\", index_col=0)\n",
    "\n",
    "df_corr = df.corr()\n",
    "\n",
    "fig = go.Figure()\n",
    "fig.add_trace(\n",
    "    go.Heatmap(\n",
    "        x = df_corr.columns,\n",
    "        y = df_corr.index,\n",
    "        z = np.array(df_corr)\n",
    "    )\n",
    ")\n"
   ]
  }
 ],
 "metadata": {
  "kernelspec": {
   "display_name": "venv",
   "language": "python",
   "name": "python3"
  },
  "language_info": {
   "codemirror_mode": {
    "name": "ipython",
    "version": 3
   },
   "file_extension": ".py",
   "mimetype": "text/x-python",
   "name": "python",
   "nbconvert_exporter": "python",
   "pygments_lexer": "ipython3",
   "version": "3.11.4"
  },
  "orig_nbformat": 4
 },
 "nbformat": 4,
 "nbformat_minor": 2
}
