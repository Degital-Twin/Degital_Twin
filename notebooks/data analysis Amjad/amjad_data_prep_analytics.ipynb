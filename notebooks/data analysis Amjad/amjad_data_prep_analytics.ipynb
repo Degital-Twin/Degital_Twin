{
 "cells": [
  {
   "cell_type": "code",
   "execution_count": null,
   "metadata": {},
   "outputs": [],
   "source": [
    "import pandas as pd\n",
    "import matplotlib.pyplot as plt\n",
    "import plotly.express as px\n",
    "import plotly.graph_objects as go\n",
    "from plotly.subplots import make_subplots\n",
    "import numpy as np\n",
    "import seaborn as sns\n",
    "\n"
   ]
  },
  {
   "cell_type": "code",
   "execution_count": null,
   "metadata": {},
   "outputs": [],
   "source": [
    "df1 = pd.read_csv(\"../data/merged_oxt101.csv\", index_col=0).drop(columns={'_water.csv'})\n",
    "df2 = pd.read_csv(\"../data/merged_oxt102.csv\", index_col=0).drop(columns={'_water.csv'})\n",
    "df3 = pd.read_csv(\"../data/merged_oxt103.csv\", index_col=0).drop(columns={'_water.csv'})\n",
    "df1 = df1.rename(columns={'EDE_B121069914_K600_nitrate.csv':'nitrate','EDE_B121069917_K600_phosphate.csv':'phosphate','EDE_B121069913_K600_ammonium.csv':'ammonium','EDE_B121069907_K600_oxygen_b.csv':'oxygen_b','EDE_B121069901_K600_oxygen_a.csv':'oxygen_a'})\n"
   ]
  },
  {
   "cell_type": "code",
   "execution_count": null,
   "metadata": {},
   "outputs": [],
   "source": [
    "def get_season(date):\n",
    "    month = date.month\n",
    "    day = date.day\n",
    "\n",
    "    if (month == 3 and day >= 21) or (month == 4 or month == 5) or (month == 6 and day <= 20):\n",
    "        return 'Spring'\n",
    "    elif (month == 6 and day >= 21) or (month == 7 or month == 8) or (month == 9 and day <= 22):\n",
    "        return 'Summer'\n",
    "    elif (month == 9 and day >= 23) or (month == 10 or month == 11) or (month == 12 and day <= 20):\n",
    "        return 'Autumn'\n",
    "    else:\n",
    "        return 'Winter'"
   ]
  },
  {
   "cell_type": "code",
   "execution_count": null,
   "metadata": {},
   "outputs": [],
   "source": [
    "df1['date'] = pd.to_datetime(df1.index)\n",
    "\n",
    "df1['season'] = df1['date'].apply(get_season)\n",
    "seasons = df1['season'].value_counts()\n",
    "\n",
    "spring_data = df1[df1['season'] == 'Spring'].drop(columns={'season', 'date'})\n",
    "summer_data = df1[df1['season'] == 'Summer'].drop(columns={'season', 'date'})\n",
    "autumn_data = df1[df1['season'] == 'Autumn'].drop(columns={'season', 'date'})\n",
    "winter_data = df1[df1['season'] == 'Winter'].drop(columns={'season', 'date'})\n"
   ]
  },
  {
   "cell_type": "code",
   "execution_count": null,
   "metadata": {},
   "outputs": [],
   "source": [
    "spring_data_corr = spring_data.corr().round(5) \n",
    "summer_data_corr = summer_data.corr().round(5) \n",
    "autumn_data_corr = autumn_data.corr().round(5) \n",
    "winter_data_corr = winter_data.corr().round(5) \n",
    "df1_corr = df1.drop(columns=['season','date']).corr().round(5) \n",
    "\n",
    "spring_data_corr"
   ]
  },
  {
   "cell_type": "code",
   "execution_count": null,
   "metadata": {},
   "outputs": [],
   "source": [
    "\n",
    "fig = px.imshow(df1_corr, text_auto=True, aspect=\"auto\", zmin= -0.2 ,zmax= 1)\n",
    "\n",
    "\n",
    "fig.update_layout(title='Year 2021')"
   ]
  },
  {
   "cell_type": "code",
   "execution_count": null,
   "metadata": {},
   "outputs": [],
   "source": [
    "\n",
    "fig = px.imshow(spring_data_corr, text_auto=True, aspect=\"auto\")\n",
    "\n",
    "fig.update_layout(title='Spring')"
   ]
  },
  {
   "cell_type": "code",
   "execution_count": null,
   "metadata": {},
   "outputs": [],
   "source": [
    "fig = px.imshow(summer_data_corr, text_auto=True, aspect=\"auto\")\n",
    "\n",
    "\n",
    "fig.update_layout(title='Summer')\n"
   ]
  },
  {
   "cell_type": "code",
   "execution_count": null,
   "metadata": {},
   "outputs": [],
   "source": [
    "fig = px.imshow(autumn_data_corr, text_auto=True, aspect=\"auto\")\n",
    "\n",
    "fig.update_layout(title='Autumn')\n"
   ]
  },
  {
   "cell_type": "code",
   "execution_count": null,
   "metadata": {},
   "outputs": [],
   "source": [
    "fig = px.imshow(winter_data_corr, text_auto=True, aspect=\"auto\")\n",
    "\n",
    "fig.update_layout(title='Winter')\n"
   ]
  },
  {
   "cell_type": "code",
   "execution_count": null,
   "metadata": {},
   "outputs": [],
   "source": [
    "spring_data.plot.line(subplots = True, figsize=(30, 20),title='Spring')"
   ]
  },
  {
   "cell_type": "code",
   "execution_count": null,
   "metadata": {},
   "outputs": [],
   "source": [
    "summer_data.plot.line(subplots = True, figsize=(30, 20),title='Summer')"
   ]
  },
  {
   "cell_type": "code",
   "execution_count": null,
   "metadata": {},
   "outputs": [],
   "source": [
    "dfs = pd.read_parquet('../data/new_data/new data/oxygen_b_bt_1-1.parquet').set_index('datumBeginMeting').drop(columns={'datumEindeMeting', 'waardebewerkingsmethodeCode','historianTagnummer'})\n",
    "dfs['hstWaarde'] = dfs['hstWaarde'].astype(float)\n"
   ]
  },
  {
   "cell_type": "code",
   "execution_count": null,
   "metadata": {},
   "outputs": [],
   "source": [
    "autumn_data.plot.line(subplots = True, figsize=(30, 20),title='Autumn')"
   ]
  },
  {
   "cell_type": "code",
   "execution_count": null,
   "metadata": {},
   "outputs": [],
   "source": [
    "winter_data.plot.line(subplots = True, figsize=(30, 20),title='Winter')"
   ]
  },
  {
   "cell_type": "code",
   "execution_count": null,
   "metadata": {},
   "outputs": [],
   "source": [
    "df1 = df1.drop(columns={'date', 'season'})\n",
    "df1.columns"
   ]
  },
  {
   "cell_type": "code",
   "execution_count": null,
   "metadata": {},
   "outputs": [],
   "source": [
    "df1.plot.line(subplots = True, figsize=(30, 20),title='Year 2021')"
   ]
  },
  {
   "cell_type": "code",
   "execution_count": null,
   "metadata": {},
   "outputs": [],
   "source": [
    "df_corr = df1.corr()\n",
    "fig = go.Figure()\n",
    "\n",
    "fig.add_trace(\n",
    "    go.Heatmap(\n",
    "        x = df_corr.columns,\n",
    "        y = df_corr.index,\n",
    "        z = np.array(df_corr)\n",
    "    )\n",
    ")\n",
    "fig.update_layout(title='Year 2021')\n"
   ]
  },
  {
   "cell_type": "code",
   "execution_count": null,
   "metadata": {},
   "outputs": [],
   "source": [
    "df1.corr('pearson')"
   ]
  },
  {
   "cell_type": "code",
   "execution_count": null,
   "metadata": {},
   "outputs": [],
   "source": [
    "april_data = df1.loc['2021-04-15 00:00':'2021-04-15 23:59']\n",
    "july_data = df1.drop(columns=['ammonium','nitrate','phosphate']).loc['2021-07-15 00:00':'2021-07-15 23:59']\n",
    "\n",
    "april_data.plot.line(subplots = True, figsize=(30, 20),title='Data of 3days in April 2021')"
   ]
  },
  {
   "cell_type": "code",
   "execution_count": null,
   "metadata": {},
   "outputs": [],
   "source": [
    "april_data.plot.line( figsize=(30, 20),title='Data of 15 April 2021')"
   ]
  },
  {
   "cell_type": "code",
   "execution_count": null,
   "metadata": {},
   "outputs": [],
   "source": [
    "july_data.plot.line(subplots = True, figsize=(30, 20),title='Data of 3days in July 2021')"
   ]
  },
  {
   "cell_type": "code",
   "execution_count": null,
   "metadata": {},
   "outputs": [],
   "source": [
    "\n",
    "    \n",
    "july_data.plot.line(figsize=(30, 20),title='Data of 15 July 2021')"
   ]
  },
  {
   "cell_type": "code",
   "execution_count": null,
   "metadata": {},
   "outputs": [],
   "source": [
    "november_data = df1.drop(columns=['ammonium','nitrate','phosphate']).loc['2021-11-19 00:00':'2021-11-21 23:59']\n",
    "june_data = df1.drop(columns=['ammonium','nitrate','phosphate']).loc['2021-06-15 00:00':'2021-06-18 23:59']\n",
    "\n",
    "november_data.plot.line(subplots = True, figsize=(30, 20),title='Data of 3days in November 2021')"
   ]
  },
  {
   "cell_type": "code",
   "execution_count": null,
   "metadata": {},
   "outputs": [],
   "source": [
    "june_data.plot.line(subplots = True, figsize=(30, 20),title='Data of 3days in June 2021')"
   ]
  },
  {
   "cell_type": "code",
   "execution_count": null,
   "metadata": {},
   "outputs": [],
   "source": [
    "df1.describe()"
   ]
  },
  {
   "cell_type": "code",
   "execution_count": null,
   "metadata": {},
   "outputs": [],
   "source": [
    "corr = df3.corr()\n",
    "\n",
    "\n",
    "fig = go.Figure()\n",
    "fig.add_trace(\n",
    "    go.Heatmap(\n",
    "        x = corr.columns,\n",
    "        y = corr.index,\n",
    "        z = np.array(corr)\n",
    "    )\n",
    ")\n",
    "fig.update_layout(title='Tank 3')"
   ]
  },
  {
   "cell_type": "code",
   "execution_count": null,
   "metadata": {},
   "outputs": [],
   "source": [
    "df3.tail(14).plot.line(subplots = True, figsize=(30, 20),title='Tank 3')"
   ]
  },
  {
   "cell_type": "code",
   "execution_count": null,
   "metadata": {},
   "outputs": [],
   "source": []
  }
 ],
 "metadata": {
  "kernelspec": {
   "display_name": "venv",
   "language": "python",
   "name": "python3"
  },
  "language_info": {
   "codemirror_mode": {
    "name": "ipython",
    "version": 3
   },
   "file_extension": ".py",
   "mimetype": "text/x-python",
   "name": "python",
   "nbconvert_exporter": "python",
   "pygments_lexer": "ipython3",
   "version": "3.11.5"
  },
  "orig_nbformat": 4
 },
 "nbformat": 4,
 "nbformat_minor": 2
}
