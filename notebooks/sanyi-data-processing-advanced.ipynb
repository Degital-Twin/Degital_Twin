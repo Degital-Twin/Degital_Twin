{
 "cells": [
  {
   "cell_type": "code",
   "execution_count": null,
   "metadata": {},
   "outputs": [],
   "source": [
    "import pandas as pd\n",
    "from functools import reduce\n",
    "\n",
    "# Define the file paths for each DataFrame\n",
    "file_paths = {\n",
    "    'dfNitrate': '../data/nitrate.parquet',\n",
    "    'dfAmmonium': '../data/ammonium.parquet',\n",
    "    'dfOxygenA': '../data/oxygen_a.parquet',\n",
    "    'dfOxygenB': '../data/oxygen_b.parquet',\n",
    "    'dfPhosphate': '../data/phosphate.parquet',\n",
    "    'dfWater': '../data/water.csv'\n",
    "}\n",
    "\n",
    "# Define column name mappings\n",
    "column_mappings = {\n",
    "    'dfNitrate': {'hstWaarde': 'nitrate'},\n",
    "    'dfAmmonium': {'hstWaarde': 'ammonium'},\n",
    "    'dfOxygenA': {'hstWaarde': 'oxygena'},\n",
    "    'dfOxygenB': {'hstWaarde': 'oxygenb'},\n",
    "    'dfPhosphate': {'hstWaarde': 'phosphate'},\n",
    "    'dfWater': {'EDE_09902MTW_K100.MTW': 'throughput', 'DateTime': 'datumEindeMeting'}\n",
    "}\n",
    "\n",
    "# Load DataFrames\n",
    "dfs = {}\n",
    "for df_name, file_path in file_paths.items():\n",
    "    if file_path.endswith(\".parquet\"):\n",
    "        dfs[df_name] = pd.read_parquet(file_path)\n",
    "    elif file_path.endswith(\".csv\"):\n",
    "        dfs[df_name] = pd.read_csv(file_path, delimiter=';')\n",
    "\n",
    "# Rename columns\n",
    "for df_name, mapping in column_mappings.items():\n",
    "    if df_name in dfs:\n",
    "        dfs[df_name].rename(columns=mapping, inplace=True)\n",
    "\n",
    "# Preprocess datetime columns\n",
    "dfs['dfWater']['datumEindeMeting'] =  pd.to_datetime(dfs['dfWater']['datumEindeMeting'], dayfirst=True)\n",
    "\n",
    "# Drop 'historianTagnummer' and 'wwResolution' columns\n",
    "column_to_drop = 'historianTagnummer'\n",
    "for df_name in dfs:\n",
    "    if column_to_drop in dfs[df_name].columns:\n",
    "        dfs[df_name].drop(columns=column_to_drop, inplace=True)\n",
    "\n",
    "dfs['dfWater'].drop(columns= 'wwResolution', inplace=True)\n",
    "\n",
    "# Merge DataFrames\n",
    "dfs_to_merge = [dfs[df_name] for df_name in ['dfNitrate', 'dfAmmonium', 'dfOxygenB', 'dfPhosphate']]\n",
    "df_merged = reduce(lambda left, right: pd.merge(left, right, on=['datumBeginMeting', 'datumEindeMeting'], how='inner'), dfs_to_merge)\n",
    "\n",
    "# Convert datetime columns\n",
    "df_merged['datumBeginMeting'] = pd.to_datetime(df_merged['datumBeginMeting'])\n",
    "df_merged['datumEindeMeting'] = pd.to_datetime(df_merged['datumEindeMeting'])\n",
    "\n",
    "# Add water table\n",
    "df_merged = df_merged.merge(dfs['dfWater'], how='inner', on='datumEindeMeting')    \n",
    "\n"
   ]
  },
  {
   "cell_type": "code",
   "execution_count": null,
   "metadata": {},
   "outputs": [],
   "source": [
    "df_merged"
   ]
  }
 ],
 "metadata": {
  "kernelspec": {
   "display_name": "venv",
   "language": "python",
   "name": "python3"
  },
  "language_info": {
   "codemirror_mode": {
    "name": "ipython",
    "version": 3
   },
   "file_extension": ".py",
   "mimetype": "text/x-python",
   "name": "python",
   "nbconvert_exporter": "python",
   "pygments_lexer": "ipython3",
   "version": "3.11.5"
  },
  "orig_nbformat": 4
 },
 "nbformat": 4,
 "nbformat_minor": 2
}
