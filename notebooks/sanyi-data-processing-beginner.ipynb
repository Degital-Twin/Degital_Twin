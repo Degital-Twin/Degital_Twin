{
 "cells": [
  {
   "cell_type": "code",
   "execution_count": null,
   "metadata": {},
   "outputs": [],
   "source": [
    "import pandas as pd\n",
    "import os\n",
    "from functools import reduce"
   ]
  },
  {
   "cell_type": "code",
   "execution_count": null,
   "metadata": {},
   "outputs": [],
   "source": [
    "dfNitrate = pd.read_parquet(\"../data/nitrate.parquet\")\n",
    "dfAmmonium = pd.read_parquet(\"../data/ammonium.parquet\")\n",
    "dfOxygenA = pd.read_parquet(\"../data/oxygen_a.parquet\")\n",
    "dfOxygenB = pd.read_parquet(\"../data/oxygen_b.parquet\")\n",
    "dfPhosphate = pd.read_parquet(\"../data/phosphate.parquet\")\n",
    "dfWater = pd.read_csv(\"../data/water.csv\", delimiter=';')"
   ]
  },
  {
   "cell_type": "code",
   "execution_count": null,
   "metadata": {},
   "outputs": [],
   "source": [
    "dfNitrate.rename(columns={'hstWaarde': 'nitrate'}, inplace=True)\n",
    "dfAmmonium.rename(columns={'hstWaarde': 'ammonium'}, inplace=True)\n",
    "dfOxygenA.rename(columns={'hstWaarde': 'oxygena'}, inplace=True)\n",
    "dfOxygenB.rename(columns={'hstWaarde': 'oxygenb'}, inplace=True)\n",
    "dfPhosphate.rename(columns={'hstWaarde': 'phosphate'}, inplace=True)\n",
    "dfWater.rename(columns={'EDE_09902MTW_K100.MTW': 'throughput', 'DateTime': 'datumEindeMeting'}, inplace=True)"
   ]
  },
  {
   "cell_type": "code",
   "execution_count": null,
   "metadata": {},
   "outputs": [],
   "source": [
    "dfWater['datumEindeMeting'] =  pd.to_datetime(dfWater['datumEindeMeting'], dayfirst=True)"
   ]
  },
  {
   "cell_type": "code",
   "execution_count": null,
   "metadata": {},
   "outputs": [],
   "source": [
    "dfs = [dfNitrate, dfAmmonium, dfOxygenB, dfPhosphate, dfWater]"
   ]
  },
  {
   "cell_type": "code",
   "execution_count": null,
   "metadata": {},
   "outputs": [],
   "source": [
    "dfs = [dfNitrate, dfAmmonium, dfOxygenB, dfPhosphate]\n",
    "column_to_drop = 'historianTagnummer'\n",
    "\n",
    "for df in dfs:\n",
    "    if column_to_drop in df.columns:\n",
    "        df.drop(column_to_drop, axis=1, inplace=True)"
   ]
  },
  {
   "cell_type": "code",
   "execution_count": null,
   "metadata": {},
   "outputs": [],
   "source": [
    "df_merged = reduce(lambda  left,right: pd.merge(left,right,on=['datumBeginMeting', 'datumEindeMeting'],\n",
    "                                            how='inner'), dfs)"
   ]
  },
  {
   "cell_type": "code",
   "execution_count": null,
   "metadata": {},
   "outputs": [],
   "source": [
    "df_merged['datumBeginMeting'] = pd.to_datetime(df_merged['datumBeginMeting'])\n",
    "df_merged['datumEindeMeting'] = pd.to_datetime(df_merged['datumEindeMeting'])"
   ]
  },
  {
   "cell_type": "code",
   "execution_count": null,
   "metadata": {},
   "outputs": [],
   "source": [
    "df_merged = df_merged.merge(dfWater, how='inner', on='datumEindeMeting')    "
   ]
  },
  {
   "cell_type": "code",
   "execution_count": null,
   "metadata": {},
   "outputs": [],
   "source": [
    "df_merged"
   ]
  }
 ],
 "metadata": {
  "kernelspec": {
   "display_name": "venv",
   "language": "python",
   "name": "python3"
  },
  "language_info": {
   "codemirror_mode": {
    "name": "ipython",
    "version": 3
   },
   "file_extension": ".py",
   "mimetype": "text/x-python",
   "name": "python",
   "nbconvert_exporter": "python",
   "pygments_lexer": "ipython3",
   "version": "3.9.6"
  },
  "orig_nbformat": 4
 },
 "nbformat": 4,
 "nbformat_minor": 2
}
