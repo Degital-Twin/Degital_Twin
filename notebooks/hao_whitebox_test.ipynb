{
 "cells": [
  {
   "cell_type": "code",
   "execution_count": null,
   "metadata": {},
   "outputs": [],
   "source": [
    "import pandas as pd\n",
    "from sklearn.model_selection import train_test_split\n",
    "from sklearn.linear_model import LinearRegression\n",
    "from sklearn.tree import DecisionTreeRegressor\n",
    "from sklearn.metrics import mean_squared_error, mean_absolute_error\n",
    "import matplotlib.pyplot as plt\n",
    "from sklearn.tree import plot_tree\n"
   ]
  },
  {
   "cell_type": "code",
   "execution_count": null,
   "metadata": {},
   "outputs": [],
   "source": [
    "# Load the data\n",
    "df = pd.read_csv(\"../data/merged.csv\", parse_dates=[\"time\"], index_col=\"time\")\n",
    "\n",
    "# Feature engineering: Extracting time-related features\n",
    "df[\"hour\"] = df.index.hour\n",
    "df[\"minute\"] = df.index.minute\n",
    "df[\"day_of_week\"] = df.index.dayofweek\n",
    "df[\"day_of_month\"] = df.index.day\n",
    "df[\"month\"] = df.index.month\n",
    "df[\"season\"] = (df.index.month % 12 + 3) // 3  # Calculates the season (1: winter, 2: spring, 3: summer, 4: autumn)\n",
    "\n",
    "# Take the mean of \"oxygen_a\" and \"oxygen_b\" and create a new feature \"mean_oxygen\"\n",
    "df[\"mean_oxygen\"] = df[[\"oxygen_a\", \"oxygen_b\"]].mean(axis=1)\n",
    "\n",
    "# Define input features and target variable\n",
    "features = [\"phosphate\", \"nitrate\", \"ammonium\", \"hour\", \"minute\", \"day_of_week\", \"day_of_month\", \"month\", \"season\"]  # Exclude \"mean_oxygen\" as a feature\n",
    "target = \"mean_oxygen\"  # Target variable\n",
    "\n",
    "# Shift the target variable to create a column for the next time step\n",
    "df[\"next_mean_oxygen\"] = df[target].shift(-1)\n",
    "\n",
    "# Drop the last row (since there's no target for it)\n",
    "df = df.dropna()\n",
    "\n",
    "# Train-test split\n",
    "train_data, test_data = train_test_split(df, test_size=0.2, shuffle=False)\n",
    "\n",
    "# Linear Regression\n",
    "lr_model = LinearRegression()\n",
    "lr_model.fit(train_data[features], train_data[\"next_mean_oxygen\"])\n",
    "lr_predictions = lr_model.predict(test_data[features])\n",
    "\n",
    "\n",
    "# Decision Tree\n",
    "dt_model = DecisionTreeRegressor()\n",
    "dt_model.fit(train_data[features], train_data[\"next_mean_oxygen\"])\n",
    "dt_predictions = dt_model.predict(test_data[features])"
   ]
  },
  {
   "cell_type": "code",
   "execution_count": null,
   "metadata": {},
   "outputs": [],
   "source": [
    "print(\"Linear Regression MSE:\", mean_squared_error(test_data[\"next_mean_oxygen\"], lr_predictions))\n",
    "print(\"Linear Regression MAE:\", mean_absolute_error(test_data[\"next_mean_oxygen\"], lr_predictions))\n",
    "print(\"Linear Regression RMSE:\", mean_squared_error(test_data[\"next_mean_oxygen\"], lr_predictions, squared=False))\n",
    "\n",
    "print(\"Decision Tree MSE:\", mean_squared_error(test_data[\"next_mean_oxygen\"], dt_predictions))\n",
    "print(\"Decision Tree MAE:\", mean_absolute_error(test_data[\"next_mean_oxygen\"], dt_predictions))\n",
    "print(\"Decicion Tree RMSE:\", mean_squared_error(test_data[\"next_mean_oxygen\"], dt_predictions, squared=False))"
   ]
  },
  {
   "cell_type": "code",
   "execution_count": null,
   "metadata": {},
   "outputs": [],
   "source": [
    "import matplotlib.pyplot as plt\n",
    "\n",
    "# Select a specific time range (e.g., two days)\n",
    "start_date = \"2021-10-20 00:00:00\"\n",
    "# end_date = \"2021-10-20 23:59:59\"\n",
    "end_date = \"2021-10-20 12:00:00\"\n",
    "filtered_test_data = test_data[(test_data.index >= start_date) & (test_data.index <= end_date)]\n",
    "\n",
    "# Linear Regression predictions for the selected time range\n",
    "lr_predictions_subset = lr_predictions[(test_data.index >= start_date) & (test_data.index <= end_date)]\n",
    "\n",
    "# Decision Tree predictions for the selected time range\n",
    "dt_predictions_subset = dt_predictions[(test_data.index >= start_date) & (test_data.index <= end_date)]\n",
    "\n",
    "# Visualize predictions for the selected time range with a simple line graph\n",
    "plt.figure(figsize=(10, 6))\n",
    "\n",
    "# Plot actual values\n",
    "plt.plot(filtered_test_data.index, filtered_test_data[\"next_mean_oxygen\"], label=\"Actual\", color=\"black\")\n",
    "\n",
    "# Plot Linear Regression predictions\n",
    "plt.plot(filtered_test_data.index, lr_predictions_subset, label=\"Linear Regression Predictions\", color=\"blue\")\n",
    "\n",
    "# Plot Decision Tree predictions\n",
    "plt.plot(filtered_test_data.index, dt_predictions_subset, label=\"Decision Tree Predictions\", color=\"orange\")\n",
    "\n",
    "plt.title(\"Linear Regression and Decision Tree Predictions (Two-Day Period)\")\n",
    "plt.xlabel(\"Time\")\n",
    "plt.ylabel(\"Oxygen\")\n",
    "plt.legend()\n",
    "\n",
    "plt.show()\n"
   ]
  }
 ],
 "metadata": {
  "kernelspec": {
   "display_name": "venv",
   "language": "python",
   "name": "python3"
  },
  "language_info": {
   "codemirror_mode": {
    "name": "ipython",
    "version": 3
   },
   "file_extension": ".py",
   "mimetype": "text/x-python",
   "name": "python",
   "nbconvert_exporter": "python",
   "pygments_lexer": "ipython3",
   "version": "3.11.5"
  }
 },
 "nbformat": 4,
 "nbformat_minor": 2
}
