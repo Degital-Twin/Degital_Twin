{
 "cells": [
  {
   "cell_type": "code",
   "execution_count": 1,
   "metadata": {},
   "outputs": [],
   "source": [
    "import pandas as pd"
   ]
  },
  {
   "cell_type": "code",
   "execution_count": 10,
   "metadata": {},
   "outputs": [
    {
     "data": {
      "text/html": [
       "<div>\n",
       "<style scoped>\n",
       "    .dataframe tbody tr th:only-of-type {\n",
       "        vertical-align: middle;\n",
       "    }\n",
       "\n",
       "    .dataframe tbody tr th {\n",
       "        vertical-align: top;\n",
       "    }\n",
       "\n",
       "    .dataframe thead th {\n",
       "        text-align: right;\n",
       "    }\n",
       "</style>\n",
       "<table border=\"1\" class=\"dataframe\">\n",
       "  <thead>\n",
       "    <tr style=\"text-align: right;\">\n",
       "      <th></th>\n",
       "      <th>DateTime</th>\n",
       "      <th>EDE_09902MTW_K100.MTW</th>\n",
       "      <th>wwResolution</th>\n",
       "    </tr>\n",
       "  </thead>\n",
       "  <tbody>\n",
       "    <tr>\n",
       "      <th>0</th>\n",
       "      <td>1-1-2021 00:01</td>\n",
       "      <td>2754,761089</td>\n",
       "      <td>60000</td>\n",
       "    </tr>\n",
       "    <tr>\n",
       "      <th>1</th>\n",
       "      <td>1-1-2021 00:02</td>\n",
       "      <td>2609,343947</td>\n",
       "      <td>60000</td>\n",
       "    </tr>\n",
       "    <tr>\n",
       "      <th>2</th>\n",
       "      <td>1-1-2021 00:03</td>\n",
       "      <td>2535,541065</td>\n",
       "      <td>60000</td>\n",
       "    </tr>\n",
       "    <tr>\n",
       "      <th>3</th>\n",
       "      <td>1-1-2021 00:04</td>\n",
       "      <td>2780,798536</td>\n",
       "      <td>60000</td>\n",
       "    </tr>\n",
       "    <tr>\n",
       "      <th>4</th>\n",
       "      <td>1-1-2021 00:05</td>\n",
       "      <td>2192,832206</td>\n",
       "      <td>60000</td>\n",
       "    </tr>\n",
       "    <tr>\n",
       "      <th>...</th>\n",
       "      <td>...</td>\n",
       "      <td>...</td>\n",
       "      <td>...</td>\n",
       "    </tr>\n",
       "    <tr>\n",
       "      <th>525594</th>\n",
       "      <td>31-12-2021 23:55</td>\n",
       "      <td>907,6167848</td>\n",
       "      <td>60000</td>\n",
       "    </tr>\n",
       "    <tr>\n",
       "      <th>525595</th>\n",
       "      <td>31-12-2021 23:56</td>\n",
       "      <td>176,3518071</td>\n",
       "      <td>60000</td>\n",
       "    </tr>\n",
       "    <tr>\n",
       "      <th>525596</th>\n",
       "      <td>31-12-2021 23:57</td>\n",
       "      <td>113,5575971</td>\n",
       "      <td>60000</td>\n",
       "    </tr>\n",
       "    <tr>\n",
       "      <th>525597</th>\n",
       "      <td>31-12-2021 23:58</td>\n",
       "      <td>187,9508758</td>\n",
       "      <td>60000</td>\n",
       "    </tr>\n",
       "    <tr>\n",
       "      <th>525598</th>\n",
       "      <td>31-12-2021 23:59</td>\n",
       "      <td>511,6983559</td>\n",
       "      <td>60000</td>\n",
       "    </tr>\n",
       "  </tbody>\n",
       "</table>\n",
       "<p>525599 rows × 3 columns</p>\n",
       "</div>"
      ],
      "text/plain": [
       "                DateTime EDE_09902MTW_K100.MTW  wwResolution\n",
       "0         1-1-2021 00:01           2754,761089         60000\n",
       "1         1-1-2021 00:02           2609,343947         60000\n",
       "2         1-1-2021 00:03           2535,541065         60000\n",
       "3         1-1-2021 00:04           2780,798536         60000\n",
       "4         1-1-2021 00:05           2192,832206         60000\n",
       "...                  ...                   ...           ...\n",
       "525594  31-12-2021 23:55           907,6167848         60000\n",
       "525595  31-12-2021 23:56           176,3518071         60000\n",
       "525596  31-12-2021 23:57           113,5575971         60000\n",
       "525597  31-12-2021 23:58           187,9508758         60000\n",
       "525598  31-12-2021 23:59           511,6983559         60000\n",
       "\n",
       "[525599 rows x 3 columns]"
      ]
     },
     "execution_count": 10,
     "metadata": {},
     "output_type": "execute_result"
    }
   ],
   "source": [
    "df = pd.read_csv('../Data/Totaal influentdebiet RWZI Ede 2021 minuut gegevens.csv',delimiter=';')\n",
    "df"
   ]
  },
  {
   "cell_type": "code",
   "execution_count": null,
   "metadata": {},
   "outputs": [],
   "source": []
  },
  {
   "cell_type": "code",
   "execution_count": null,
   "metadata": {},
   "outputs": [],
   "source": []
  }
 ],
 "metadata": {
  "kernelspec": {
   "display_name": "venv",
   "language": "python",
   "name": "python3"
  },
  "language_info": {
   "codemirror_mode": {
    "name": "ipython",
    "version": 3
   },
   "file_extension": ".py",
   "mimetype": "text/x-python",
   "name": "python",
   "nbconvert_exporter": "python",
   "pygments_lexer": "ipython3",
   "version": "3.11.5"
  },
  "orig_nbformat": 4
 },
 "nbformat": 4,
 "nbformat_minor": 2
}
