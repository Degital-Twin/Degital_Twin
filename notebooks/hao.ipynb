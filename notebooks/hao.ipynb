{
 "cells": [
  {
   "cell_type": "code",
   "execution_count": 12,
   "metadata": {},
   "outputs": [],
   "source": [
    "import pandas as pd\n",
    "import os"
   ]
  },
  {
   "cell_type": "code",
   "execution_count": 14,
   "metadata": {},
   "outputs": [],
   "source": [
    "# Make Parquet CSV\n",
    "folder_path = \"../data/important-parquet/\"\n",
    "files = os.listdir(folder_path)\n",
    "output_folder = \"../data/important/\"  # Specify the folder where you want to save the CSV files\n",
    "\n",
    "# Create the output folder if it doesn't exist\n",
    "os.makedirs(output_folder, exist_ok=True)\n",
    "\n",
    "for f in files:\n",
    "    if f.endswith(\".parquet\"):\n",
    "        # Read the Parquet file\n",
    "        df = pd.read_parquet(os.path.join(folder_path, f))\n",
    "\n",
    "        # Create the corresponding CSV file name\n",
    "        csv_filename = os.path.splitext(f)[0] + \".csv\"\n",
    "        csv_path = os.path.join(output_folder, csv_filename)\n",
    "\n",
    "        # Check if the CSV file already exists and remove it\n",
    "        if os.path.exists(csv_path):\n",
    "            os.remove(csv_path)\n",
    "        \n",
    "        # Save the Parquet data as a CSV file\n",
    "        df.to_csv(csv_path, index=False)"
   ]
  }
 ],
 "metadata": {
  "kernelspec": {
   "display_name": "venv",
   "language": "python",
   "name": "python3"
  },
  "language_info": {
   "codemirror_mode": {
    "name": "ipython",
    "version": 3
   },
   "file_extension": ".py",
   "mimetype": "text/x-python",
   "name": "python",
   "nbconvert_exporter": "python",
   "pygments_lexer": "ipython3",
   "version": "3.9.7"
  },
  "orig_nbformat": 4
 },
 "nbformat": 4,
 "nbformat_minor": 2
}
