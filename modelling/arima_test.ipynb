{
 "cells": [
  {
   "cell_type": "code",
   "execution_count": null,
   "metadata": {},
   "outputs": [],
   "source": [
    "import pandas as pd\n",
    "import matplotlib.pyplot as plt\n",
    "import statsmodels.api as sm\n",
    "import numpy as np\n",
    "import pmdarima as pm\n",
    "\n",
    "from statsmodels.tsa.stattools import adfuller\n",
    "from statsmodels.graphics.tsaplots import plot_acf, plot_pacf\n",
    "from statsmodels.tsa.statespace.sarimax import SARIMAX\n",
    "from sklearn.metrics import mean_squared_error"
   ]
  },
  {
   "cell_type": "code",
   "execution_count": null,
   "metadata": {},
   "outputs": [],
   "source": [
    "df = pd.read_parquet(\"../data/tank1_new/oxygen_a.parquet\")\n",
    "df.index = pd.to_datetime(df['datumBeginMeting'])\n",
    "df.index.name = None\n",
    "df.drop(columns=['datumEindeMeting', 'datumBeginMeting'], inplace=True)\n",
    "\n",
    "df = df[\"hstWaarde\"]\n",
    "\n",
    "df"
   ]
  },
  {
   "cell_type": "code",
   "execution_count": null,
   "metadata": {},
   "outputs": [],
   "source": [
    "# Plot the time series data\n",
    "plt.figure(figsize=(12, 6))\n",
    "plt.plot(df)\n",
    "plt.title('Values')\n",
    "plt.xlabel('Time')\n",
    "plt.ylabel('Value')\n",
    "plt.show()"
   ]
  },
  {
   "cell_type": "code",
   "execution_count": null,
   "metadata": {},
   "outputs": [],
   "source": [
    "# Check for stationarity using Augmented Dickey-Fuller test\n",
    "# If p-value is less than 0.05, data is stationary, otherwise, it's not.\n",
    "result = adfuller(df['hstWaarde'])\n",
    "print(\"ADF Statistic:\", result[0])\n",
    "print(\"p-value:\", result[1])\n",
    "print(\"Critical Values:\", result[4])"
   ]
  },
  {
   "cell_type": "code",
   "execution_count": null,
   "metadata": {},
   "outputs": [],
   "source": [
    "df = df.astype(float)\n",
    "df\n",
    "\n",
    "df2 = df.iloc[len(df) // 2:]\n",
    "df2"
   ]
  },
  {
   "cell_type": "code",
   "execution_count": null,
   "metadata": {},
   "outputs": [],
   "source": [
    "# Perform a train-test split\n",
    "train_size = int(len(df2) * 0.8)  # 80% for training, adjust as needed\n",
    "train, test = df2.iloc[:train_size], df2.iloc[train_size:]\n",
    "\n",
    "# Fit your model\n",
    "model = pm.auto_arima(train, seasonal=True, m=1)\n",
    "\n",
    "# make your forecasts\n",
    "forecasts = model.predict(test.shape[0])  # predict N steps into the future\n",
    "\n",
    "# Visualize the forecasts (blue=train, green=forecasts)\n",
    "x = np.arange(df2.shape[0])\n",
    "plt.plot(x[:train_size], train, c='blue')\n",
    "plt.plot(x[train_size:], forecasts, c='green')\n",
    "plt.show()"
   ]
  },
  {
   "cell_type": "code",
   "execution_count": null,
   "metadata": {},
   "outputs": [],
   "source": [
    "# df = df.resample(\"5T\").mean()\n",
    "\n",
    "# Perform a train-test split\n",
    "train_size = int(len(df) * 0.8)  # 80% for training, adjust as needed\n",
    "train_data, test_data = df.iloc[:train_size], df.iloc[train_size:]\n",
    "\n",
    "sarima_train = SARIMAX(train_data,\n",
    "                order=(1,1,1),\n",
    "                seasonal_order=(1,1,1,4))\n",
    "\n",
    "sarima_fit = sarima_train.fit()\n",
    "\n",
    "test_predictions = sarima_fit.get_prediction(start=len(train_data), end=len(df) - 1, dynamic=False)\n",
    "\n",
    "# Extract the predicted values and confidence intervals\n",
    "predicted_values = test_predictions.predicted_mean\n",
    "confidence_intervals = test_predictions.conf_int()\n",
    "\n",
    "plt.figure(figsize=(16, 4))\n",
    "plt.plot(test_data, label=\"Actual\")\n",
    "plt.plot(predicted_values, label=\"Predicted\")\n",
    "plt.fill_between(confidence_intervals.index, confidence_intervals.iloc[:, 0], confidence_intervals.iloc[:, 1], color='gray', alpha=0.2)\n",
    "plt.title('', fontsize=20)\n",
    "plt.ylabel('', fontsize=16)\n",
    "plt.legend()"
   ]
  },
  {
   "cell_type": "code",
   "execution_count": null,
   "metadata": {},
   "outputs": [],
   "source": [
    "predicted_values"
   ]
  },
  {
   "cell_type": "code",
   "execution_count": null,
   "metadata": {},
   "outputs": [],
   "source": [
    "# Perform a train-test split\n",
    "train_size = int(len(df) * 0.8)  # 80% for training, adjust as needed\n",
    "train_data, test_data = df.iloc[:train_size], df.iloc[train_size:]\n",
    "\n",
    "# Fit the ARIMA model with (2, 0, 2) parameters\n",
    "# p: the number of lag observations in the model, also known as the lag order. \n",
    "# d: the number of times the raw observations are differenced\n",
    "# q: the size of the moving average window, also known as the order of the moving average\n",
    "model = sm.tsa.ARIMA(train_data, order=(1, 1, 1))\n",
    "model_fit = model.fit()\n",
    "\n",
    "# Make predictions on the test set\n",
    "predictions = model_fit.forecast(steps=len(test_data))\n",
    "\n",
    "# Calculate Mean Squared Error (MSE) to evaluate the model\n",
    "mse = mean_squared_error(test_data, predictions)\n",
    "print(f'Mean Squared Error (MSE): {mse}')\n",
    "\n",
    "# Plot the original data and predictions\n",
    "plt.figure(figsize=(12, 6))\n",
    "plt.plot(df, label='Original Data', color='blue')\n",
    "plt.plot(test_data.index, predictions, label='Predictions', color='red')\n",
    "plt.legend()\n",
    "plt.xlabel('Timestamp')\n",
    "plt.ylabel('Value')\n",
    "plt.title('ARIMA Model with (2, 0, 2) Parameters')\n",
    "plt.show()"
   ]
  },
  {
   "cell_type": "code",
   "execution_count": null,
   "metadata": {},
   "outputs": [],
   "source": [
    "predictions"
   ]
  },
  {
   "cell_type": "code",
   "execution_count": null,
   "metadata": {},
   "outputs": [],
   "source": [
    "# Fit an ARIMA model\n",
    "p = 1  # AR order\n",
    "d = 1  # I order (differencing)\n",
    "q = 1  # MA order\n",
    "\n",
    "model = sm.tsa.ARIMA(df['hstWaarde'], order=(2,0,2))\n",
    "results = model.fit()\n",
    "\n",
    "# Print the model summary\n",
    "print(results.summary())"
   ]
  },
  {
   "cell_type": "code",
   "execution_count": null,
   "metadata": {},
   "outputs": [],
   "source": [
    "# Plot the model residuals\n",
    "plt.figure(figsize=(12, 6))\n",
    "plt.plot(results.resid)\n",
    "plt.title('Residuals of ARIMA Model')\n",
    "plt.xlabel('Time')\n",
    "plt.ylabel('Residuals')\n",
    "plt.show()"
   ]
  },
  {
   "cell_type": "code",
   "execution_count": null,
   "metadata": {},
   "outputs": [],
   "source": []
  },
  {
   "cell_type": "code",
   "execution_count": null,
   "metadata": {},
   "outputs": [],
   "source": [
    "# Generate forecasts\n",
    "res = results.forecast(10)\n",
    "forecast = res.keys()\n",
    "stderr = res\n",
    "\n",
    "# Plot the original data and forecasted values\n",
    "plt.figure(figsize=(12, 6))\n",
    "plt.plot(df['hstWaarde'], label='Original Data')\n",
    "plt.plot(res, label=\"as\")\n",
    "# plt.plot(range(len(df), len(df) + 10), forecast, label='Forecast', color='red')\n",
    "# plt.fill_between(range(len(df), len(df) + 10), forecast - stderr, forecast + stderr, color='pink')\n",
    "plt.legend()\n",
    "plt.title('ARIMA Forecast')\n",
    "plt.xlabel('Time')\n",
    "plt.ylabel('Value')\n",
    "plt.show()"
   ]
  },
  {
   "cell_type": "code",
   "execution_count": null,
   "metadata": {},
   "outputs": [],
   "source": []
  }
 ],
 "metadata": {
  "kernelspec": {
   "display_name": "venv",
   "language": "python",
   "name": "python3"
  },
  "language_info": {
   "codemirror_mode": {
    "name": "ipython",
    "version": 3
   },
   "file_extension": ".py",
   "mimetype": "text/x-python",
   "name": "python",
   "nbconvert_exporter": "python",
   "pygments_lexer": "ipython3",
   "version": "3.11.4"
  },
  "orig_nbformat": 4
 },
 "nbformat": 4,
 "nbformat_minor": 2
}
